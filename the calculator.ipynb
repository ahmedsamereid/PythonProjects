{
 "cells": [
  {
   "cell_type": "markdown",
   "id": "94afc806-fc4a-4981-b481-e3451cf0a3f8",
   "metadata": {},
   "source": [
    "# Calculator"
   ]
  },
  {
   "cell_type": "code",
   "execution_count": 5,
   "id": "94181282-379b-4198-afec-3d688ef3e1e0",
   "metadata": {},
   "outputs": [
    {
     "name": "stdout",
     "output_type": "stream",
     "text": [
      "Error: Invalid input: Check your numbers and operators.\n",
      "Error: Invalid input: Check your numbers and operators.\n",
      "Result: 179\n"
     ]
    }
   ],
   "source": [
    "state = True\n",
    "while state:\n",
    "    try:\n",
    "        the_q = input(\"Enter numbers and operators: \")  # إدخال سلسلة نصوص\n",
    "        the_list = []  # قائمة الأرقام\n",
    "        operators = []  # قائمة المعاملات\n",
    "        current_number = \"\"  # لتجميع الأرقام\n",
    "\n",
    "        for x in the_q:\n",
    "            if x.isdigit() or x == \".\":  # إذا كان رقمًا أو نقطة عشرية\n",
    "                current_number += x  # تجميع الرقم الحالي\n",
    "            else:\n",
    "                if current_number:  # إذا كان الرقم مكتملًا\n",
    "                    the_list.append(float(current_number) if \".\" in current_number else int(current_number))\n",
    "                    current_number = \"\"  # إعادة تعيين الرقم الحالي\n",
    "                operators.append(x)  # إضافة المعامل\n",
    "\n",
    "        # إضافة الرقم الأخير إذا وجد\n",
    "        if current_number:\n",
    "            the_list.append(float(current_number) if \".\" in current_number else int(current_number))\n",
    "\n",
    "        # التحقق من صحة المدخلات\n",
    "        if len(operators) != len(the_list) - 1:\n",
    "            raise ValueError(\"Invalid input: Check your numbers and operators.\")\n",
    "\n",
    "        # تنفيذ العمليات مع الأولوية\n",
    "        while \"*\" in operators or \"/\" in operators:\n",
    "            for i, op in enumerate(operators):\n",
    "                if op == \"*\":\n",
    "                    the_list[i] = the_list[i] * the_list[i + 1]\n",
    "                    del the_list[i + 1]\n",
    "                    del operators[i]\n",
    "                    break\n",
    "                elif op == \"/\":\n",
    "                    if the_list[i + 1] == 0:\n",
    "                        raise ZeroDivisionError(\"Cannot divide by zero.\")\n",
    "                    the_list[i] = the_list[i] / the_list[i + 1]\n",
    "                    del the_list[i + 1]\n",
    "                    del operators[i]\n",
    "                    break\n",
    "\n",
    "        while \"+\" in operators or \"-\" in operators:\n",
    "            for i, op in enumerate(operators):\n",
    "                if op == \"+\":\n",
    "                    the_list[i] = the_list[i] + the_list[i + 1]\n",
    "                    del the_list[i + 1]\n",
    "                    del operators[i]\n",
    "                    break\n",
    "                elif op == \"-\":\n",
    "                    the_list[i] = the_list[i] - the_list[i + 1]\n",
    "                    del the_list[i + 1]\n",
    "                    del operators[i]\n",
    "                    break\n",
    "\n",
    "        print(\"Result:\", the_list[0])\n",
    "        state = False\n",
    "    except ValueError as e:\n",
    "        print(f\"Error: {e}\")\n",
    "    except ZeroDivisionError as e:\n",
    "        print(f\"Error: {e}\")\n"
   ]
  },
  {
   "cell_type": "code",
   "execution_count": null,
   "id": "cf12b8fa",
   "metadata": {},
   "outputs": [],
   "source": []
  }
 ],
 "metadata": {
  "kernelspec": {
   "display_name": "islb",
   "language": "python",
   "name": "python3"
  },
  "language_info": {
   "codemirror_mode": {
    "name": "ipython",
    "version": 3
   },
   "file_extension": ".py",
   "mimetype": "text/x-python",
   "name": "python",
   "nbconvert_exporter": "python",
   "pygments_lexer": "ipython3",
   "version": "3.12.8"
  }
 },
 "nbformat": 4,
 "nbformat_minor": 5
}
