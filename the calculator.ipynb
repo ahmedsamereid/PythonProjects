{
 "cells": [
  {
   "cell_type": "markdown",
   "id": "94afc806-fc4a-4981-b481-e3451cf0a3f8",
   "metadata": {},
   "source": [
    "# Calculator"
   ]
  },
  {
   "cell_type": "code",
   "execution_count": 119,
   "id": "94181282-379b-4198-afec-3d688ef3e1e0",
   "metadata": {},
   "outputs": [
    {
     "name": "stdin",
     "output_type": "stream",
     "text": [
      "Enter numbers and operators:  24.1+1.1\n"
     ]
    },
    {
     "name": "stdout",
     "output_type": "stream",
     "text": [
      "result: 25.200000000000003\n"
     ]
    }
   ],
   "source": [
    "the_q = input(\"Enter numbers and operators: \")  # إدخال سلسلة نصوص\n",
    "the_list = []  # قائمة فارغة لتجميع الأرقام الصحيحة\n",
    "operators = []  # قائمة فارغة لتجميع المعاملات\n",
    "current_number = \"\"  # لتجميع الأرقام بما في ذلك الفواصل العشرية\n",
    "\n",
    "for x in the_q:\n",
    "    if x.isdigit() or x == \".\":  # يتحقق إذا كان الحرف رقمًا أو نقطة\n",
    "        current_number += x  # تجميع الرقم مع النقطة\n",
    "    else:\n",
    "        if current_number:  # إذا كان لدينا رقم مكتمل\n",
    "            the_list.append(float(current_number) if \".\" in current_number else int(current_number))\n",
    "            current_number = \"\"  # إعادة تعيين الرقم الحالي\n",
    "        operators.append(x)  # إضافة المعامل إلى القائمة\n",
    "\n",
    "# إضافة الرقم الأخير (إذا كان هناك رقم في النهاية)\n",
    "if current_number:\n",
    "    the_list.append(float(current_number) if \".\" in current_number else int(current_number))\n",
    "\n",
    "    result = the_list [0]\n",
    "\n",
    "    for i in the_list [1:]:\n",
    "        for z in operators[:] :\n",
    "            if z == \"*\" :\n",
    "                  result *= i # ضرب القيم\n",
    "            if z == \"+\" :\n",
    "                  result += i  # جمع القيم\n",
    "            if z == \"-\" :\n",
    "                  result -= i  # طرح القيم\n",
    "            if z == \"/\" :\n",
    "                  result -= i  # قسمة القيم \n",
    "\n",
    "print(\"result:\", result)"
   ]
  }
 ],
 "metadata": {
  "kernelspec": {
   "display_name": "Python 3 (ipykernel)",
   "language": "python",
   "name": "python3"
  },
  "language_info": {
   "codemirror_mode": {
    "name": "ipython",
    "version": 3
   },
   "file_extension": ".py",
   "mimetype": "text/x-python",
   "name": "python",
   "nbconvert_exporter": "python",
   "pygments_lexer": "ipython3",
   "version": "3.12.7"
  }
 },
 "nbformat": 4,
 "nbformat_minor": 5
}
